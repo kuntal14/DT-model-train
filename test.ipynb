{
 "cells": [
  {
   "cell_type": "code",
   "execution_count": 38,
   "metadata": {},
   "outputs": [],
   "source": [
    "import os\n",
    "import torch\n",
    "import dask.dataframe as dd\n",
    "import json\n",
    "import ast"
   ]
  },
  {
   "cell_type": "code",
   "execution_count": 23,
   "metadata": {},
   "outputs": [],
   "source": [
    "ddf = dd.read_json('dummy.jsonl', lines=True)\n",
    "ddf = ddf.repartition(npartitions=3)"
   ]
  },
  {
   "cell_type": "code",
   "execution_count": 24,
   "metadata": {},
   "outputs": [
    {
     "name": "stdout",
     "output_type": "stream",
     "text": [
      "Dask DataFrame Structure:\n",
      "                    k    accl\n",
      "npartitions=3                \n",
      "               string  string\n",
      "                  ...     ...\n",
      "                  ...     ...\n",
      "                  ...     ...\n",
      "Dask Name: repartition, 4 graph layers\n"
     ]
    }
   ],
   "source": [
    "print(ddf)"
   ]
  },
  {
   "cell_type": "code",
   "execution_count": 27,
   "metadata": {},
   "outputs": [],
   "source": [
    "def partition_to_tensor(partition):\n",
    "    # Convert Dask partition (Pandas DataFrame) to NumPy array\n",
    "    data = partition.computed().to_numpy()\n",
    "    # Convert NumPy array to PyTorch tensor\n",
    "    return torch.tensor(data, dtype=torch.float32)"
   ]
  },
  {
   "cell_type": "code",
   "execution_count": 39,
   "metadata": {},
   "outputs": [
    {
     "name": "stdout",
     "output_type": "stream",
     "text": [
      "[[1.1, 2.2], [1.1, 2.2], [1.1, 2.2], [1.1, 2.2]]\n"
     ]
    }
   ],
   "source": [
    "for partition in ddf.to_delayed():\n",
    "    df = partition.compute()\n",
    "    print(ast.literal_eval(df['accl'][0]))\n",
    "    break\n"
   ]
  },
  {
   "cell_type": "code",
   "execution_count": 25,
   "metadata": {},
   "outputs": [
    {
     "name": "stdout",
     "output_type": "stream",
     "text": [
      "filename: ./data1\\data_part0.jsonl\n",
      "filename: ./data1\\data_part1.jsonl\n",
      "filename: ./data2\\data_part0.jsonl\n",
      "filename: ./data2\\data_part1.jsonl\n",
      "filename: ./data3\\data_part0.jsonl\n",
      "filename: ./data3\\data_part1.jsonl\n"
     ]
    }
   ],
   "source": [
    "folders_list = ['./data1', './data2', './data3']\n",
    "\n",
    "for folder in folders_list:\n",
    "    for file in os.listdir(folder):\n",
    "        filename = os.path.join(folder, file)\n",
    "        print(f'filename: {filename}')\n",
    "        with open(filename, 'r') as file:\n",
    "            for line_number, line in enumerate(file):\n",
    "                data = json.loads(line)\n",
    "                # print(len(data['accl']))\n",
    "                for point in data['accl']:\n",
    "                    for index, value in enumerate(point):\n",
    "                        if isinstance(value, str):\n",
    "                            print(f'line_number: {line_number}, index: {index}, value: {value}')"
   ]
  },
  {
   "cell_type": "code",
   "execution_count": 7,
   "metadata": {},
   "outputs": [
    {
     "ename": "TypeError",
     "evalue": "An error occurred while calling the read_json method registered to the pandas backend.\nOriginal Message: read_json() got an unexpected keyword argument 'convertors'",
     "output_type": "error",
     "traceback": [
      "\u001b[1;31m---------------------------------------------------------------------------\u001b[0m",
      "\u001b[1;31mTypeError\u001b[0m                                 Traceback (most recent call last)",
      "File \u001b[1;32mc:\\Users\\atheya\\anaconda3\\Lib\\site-packages\\dask\\backends.py:136\u001b[0m, in \u001b[0;36mCreationDispatch.register_inplace.<locals>.decorator.<locals>.wrapper\u001b[1;34m(*args, **kwargs)\u001b[0m\n\u001b[0;32m    135\u001b[0m \u001b[38;5;28;01mtry\u001b[39;00m:\n\u001b[1;32m--> 136\u001b[0m     \u001b[38;5;28;01mreturn\u001b[39;00m func(\u001b[38;5;241m*\u001b[39margs, \u001b[38;5;241m*\u001b[39m\u001b[38;5;241m*\u001b[39mkwargs)\n\u001b[0;32m    137\u001b[0m \u001b[38;5;28;01mexcept\u001b[39;00m \u001b[38;5;167;01mException\u001b[39;00m \u001b[38;5;28;01mas\u001b[39;00m e:\n",
      "File \u001b[1;32mc:\\Users\\atheya\\anaconda3\\Lib\\site-packages\\dask\\dataframe\\io\\json.py:302\u001b[0m, in \u001b[0;36mread_json\u001b[1;34m(url_path, orient, lines, storage_options, blocksize, sample, encoding, errors, compression, meta, engine, include_path_column, path_converter, **kwargs)\u001b[0m\n\u001b[0;32m    288\u001b[0m     parts \u001b[38;5;241m=\u001b[39m [\n\u001b[0;32m    289\u001b[0m         delayed(read_json_file)(\n\u001b[0;32m    290\u001b[0m             f,\n\u001b[1;32m   (...)\u001b[0m\n\u001b[0;32m    299\u001b[0m         \u001b[38;5;28;01mfor\u001b[39;00m f \u001b[38;5;129;01min\u001b[39;00m files\n\u001b[0;32m    300\u001b[0m     ]\n\u001b[1;32m--> 302\u001b[0m \u001b[38;5;28;01mreturn\u001b[39;00m from_delayed(parts, meta\u001b[38;5;241m=\u001b[39mmeta)\n",
      "File \u001b[1;32mc:\\Users\\atheya\\anaconda3\\Lib\\site-packages\\dask\\dataframe\\io\\io.py:629\u001b[0m, in \u001b[0;36mfrom_delayed\u001b[1;34m(dfs, meta, divisions, prefix, verify_meta)\u001b[0m\n\u001b[0;32m    628\u001b[0m \u001b[38;5;28;01mif\u001b[39;00m meta \u001b[38;5;129;01mis\u001b[39;00m \u001b[38;5;28;01mNone\u001b[39;00m:\n\u001b[1;32m--> 629\u001b[0m     meta \u001b[38;5;241m=\u001b[39m delayed(make_meta)(dfs[\u001b[38;5;241m0\u001b[39m])\u001b[38;5;241m.\u001b[39mcompute()\n\u001b[0;32m    630\u001b[0m \u001b[38;5;28;01melse\u001b[39;00m:\n",
      "File \u001b[1;32mc:\\Users\\atheya\\anaconda3\\Lib\\site-packages\\dask\\base.py:342\u001b[0m, in \u001b[0;36mDaskMethodsMixin.compute\u001b[1;34m(self, **kwargs)\u001b[0m\n\u001b[0;32m    319\u001b[0m \u001b[38;5;250m\u001b[39m\u001b[38;5;124;03m\"\"\"Compute this dask collection\u001b[39;00m\n\u001b[0;32m    320\u001b[0m \n\u001b[0;32m    321\u001b[0m \u001b[38;5;124;03mThis turns a lazy Dask collection into its in-memory equivalent.\u001b[39;00m\n\u001b[1;32m   (...)\u001b[0m\n\u001b[0;32m    340\u001b[0m \u001b[38;5;124;03mdask.compute\u001b[39;00m\n\u001b[0;32m    341\u001b[0m \u001b[38;5;124;03m\"\"\"\u001b[39;00m\n\u001b[1;32m--> 342\u001b[0m (result,) \u001b[38;5;241m=\u001b[39m compute(\u001b[38;5;28mself\u001b[39m, traverse\u001b[38;5;241m=\u001b[39m\u001b[38;5;28;01mFalse\u001b[39;00m, \u001b[38;5;241m*\u001b[39m\u001b[38;5;241m*\u001b[39mkwargs)\n\u001b[0;32m    343\u001b[0m \u001b[38;5;28;01mreturn\u001b[39;00m result\n",
      "File \u001b[1;32mc:\\Users\\atheya\\anaconda3\\Lib\\site-packages\\dask\\base.py:628\u001b[0m, in \u001b[0;36mcompute\u001b[1;34m(traverse, optimize_graph, scheduler, get, *args, **kwargs)\u001b[0m\n\u001b[0;32m    627\u001b[0m \u001b[38;5;28;01mwith\u001b[39;00m shorten_traceback():\n\u001b[1;32m--> 628\u001b[0m     results \u001b[38;5;241m=\u001b[39m schedule(dsk, keys, \u001b[38;5;241m*\u001b[39m\u001b[38;5;241m*\u001b[39mkwargs)\n\u001b[0;32m    630\u001b[0m \u001b[38;5;28;01mreturn\u001b[39;00m repack([f(r, \u001b[38;5;241m*\u001b[39ma) \u001b[38;5;28;01mfor\u001b[39;00m r, (f, a) \u001b[38;5;129;01min\u001b[39;00m \u001b[38;5;28mzip\u001b[39m(results, postcomputes)])\n",
      "File \u001b[1;32mc:\\Users\\atheya\\anaconda3\\Lib\\site-packages\\dask\\dataframe\\io\\json.py:322\u001b[0m, in \u001b[0;36mread_json_file\u001b[1;34m(f, orient, lines, engine, column_name, path, path_dtype, kwargs)\u001b[0m\n\u001b[0;32m    321\u001b[0m \u001b[38;5;28;01mwith\u001b[39;00m f \u001b[38;5;28;01mas\u001b[39;00m open_file:\n\u001b[1;32m--> 322\u001b[0m     df \u001b[38;5;241m=\u001b[39m engine(open_file, orient\u001b[38;5;241m=\u001b[39morient, lines\u001b[38;5;241m=\u001b[39mlines, \u001b[38;5;241m*\u001b[39m\u001b[38;5;241m*\u001b[39mkwargs)\n\u001b[0;32m    323\u001b[0m \u001b[38;5;28;01mif\u001b[39;00m column_name:\n",
      "\u001b[1;31mTypeError\u001b[0m: read_json() got an unexpected keyword argument 'convertors'",
      "\nThe above exception was the direct cause of the following exception:\n",
      "\u001b[1;31mTypeError\u001b[0m                                 Traceback (most recent call last)",
      "Cell \u001b[1;32mIn[7], line 8\u001b[0m\n\u001b[0;32m      5\u001b[0m     \u001b[38;5;28;01mexcept\u001b[39;00m (\u001b[38;5;167;01mValueError\u001b[39;00m, \u001b[38;5;167;01mSyntaxError\u001b[39;00m):\n\u001b[0;32m      6\u001b[0m         \u001b[38;5;28;01mreturn\u001b[39;00m x\n\u001b[1;32m----> 8\u001b[0m data1 \u001b[38;5;241m=\u001b[39m dd\u001b[38;5;241m.\u001b[39mread_json(\u001b[38;5;124m'\u001b[39m\u001b[38;5;124mrough.jsonl\u001b[39m\u001b[38;5;124m'\u001b[39m, lines\u001b[38;5;241m=\u001b[39m\u001b[38;5;28;01mTrue\u001b[39;00m, convertors\u001b[38;5;241m=\u001b[39m{\u001b[38;5;124m'\u001b[39m\u001b[38;5;124maccl\u001b[39m\u001b[38;5;124m'\u001b[39m: convert_to_list})\n\u001b[0;32m     10\u001b[0m \u001b[38;5;28mprint\u001b[39m(\u001b[38;5;124m\"\u001b[39m\u001b[38;5;124m-------------------------------------------\u001b[39m\u001b[38;5;124m\"\u001b[39m)\n\u001b[0;32m     12\u001b[0m \u001b[38;5;28mprint\u001b[39m(data1\u001b[38;5;241m.\u001b[39mhead)\n",
      "File \u001b[1;32mc:\\Users\\atheya\\anaconda3\\Lib\\site-packages\\dask\\backends.py:138\u001b[0m, in \u001b[0;36mCreationDispatch.register_inplace.<locals>.decorator.<locals>.wrapper\u001b[1;34m(*args, **kwargs)\u001b[0m\n\u001b[0;32m    136\u001b[0m     \u001b[38;5;28;01mreturn\u001b[39;00m func(\u001b[38;5;241m*\u001b[39margs, \u001b[38;5;241m*\u001b[39m\u001b[38;5;241m*\u001b[39mkwargs)\n\u001b[0;32m    137\u001b[0m \u001b[38;5;28;01mexcept\u001b[39;00m \u001b[38;5;167;01mException\u001b[39;00m \u001b[38;5;28;01mas\u001b[39;00m e:\n\u001b[1;32m--> 138\u001b[0m     \u001b[38;5;28;01mraise\u001b[39;00m \u001b[38;5;28mtype\u001b[39m(e)(\n\u001b[0;32m    139\u001b[0m         \u001b[38;5;124mf\u001b[39m\u001b[38;5;124m\"\u001b[39m\u001b[38;5;124mAn error occurred while calling the \u001b[39m\u001b[38;5;132;01m{\u001b[39;00mfuncname(func)\u001b[38;5;132;01m}\u001b[39;00m\u001b[38;5;124m \u001b[39m\u001b[38;5;124m\"\u001b[39m\n\u001b[0;32m    140\u001b[0m         \u001b[38;5;124mf\u001b[39m\u001b[38;5;124m\"\u001b[39m\u001b[38;5;124mmethod registered to the \u001b[39m\u001b[38;5;132;01m{\u001b[39;00m\u001b[38;5;28mself\u001b[39m\u001b[38;5;241m.\u001b[39mbackend\u001b[38;5;132;01m}\u001b[39;00m\u001b[38;5;124m backend.\u001b[39m\u001b[38;5;130;01m\\n\u001b[39;00m\u001b[38;5;124m\"\u001b[39m\n\u001b[0;32m    141\u001b[0m         \u001b[38;5;124mf\u001b[39m\u001b[38;5;124m\"\u001b[39m\u001b[38;5;124mOriginal Message: \u001b[39m\u001b[38;5;132;01m{\u001b[39;00me\u001b[38;5;132;01m}\u001b[39;00m\u001b[38;5;124m\"\u001b[39m\n\u001b[0;32m    142\u001b[0m     ) \u001b[38;5;28;01mfrom\u001b[39;00m \u001b[38;5;21;01me\u001b[39;00m\n",
      "\u001b[1;31mTypeError\u001b[0m: An error occurred while calling the read_json method registered to the pandas backend.\nOriginal Message: read_json() got an unexpected keyword argument 'convertors'"
     ]
    }
   ],
   "source": [
    "import ast\n",
    "def convert_to_list(x):\n",
    "    try:\n",
    "        return ast.literal_eval(x)\n",
    "    except (ValueError, SyntaxError):\n",
    "        return x\n",
    "\n",
    "data1 = dd.read_json('rough.jsonl', lines=True, converters={'accl': convert_to_list})\n",
    "\n",
    "print(\"-------------------------------------------\")\n",
    "\n",
    "print(data1.head)\n",
    "\n",
    "\n",
    "# pandas_df = data.compute()\n",
    "# print(pandas_df)"
   ]
  },
  {
   "cell_type": "code",
   "execution_count": 4,
   "metadata": {},
   "outputs": [
    {
     "name": "stdout",
     "output_type": "stream",
     "text": [
      "[[1.1, 2], [3, 4], [5, 6]]\n",
      "<class 'list'>\n",
      "<class 'float'>\n"
     ]
    }
   ],
   "source": [
    "import ast\n",
    "x = \"[[1.1,2],[3,4],[5,6]]\"\n",
    "y = ast.literal_eval(x)\n",
    "print(y)\n",
    "print(type(y))\n",
    "print(type(y[0][0]))"
   ]
  },
  {
   "cell_type": "code",
   "execution_count": 86,
   "metadata": {},
   "outputs": [
    {
     "name": "stdout",
     "output_type": "stream",
     "text": [
      "<class 'dask.dataframe.core.Series'>\n"
     ]
    },
    {
     "ename": "TypeError",
     "evalue": "literal_eval() missing 1 required positional argument: 'node_or_string'",
     "output_type": "error",
     "traceback": [
      "\u001b[1;31m---------------------------------------------------------------------------\u001b[0m",
      "\u001b[1;31mTypeError\u001b[0m                                 Traceback (most recent call last)",
      "Cell \u001b[1;32mIn[86], line 15\u001b[0m\n\u001b[0;32m     13\u001b[0m s \u001b[38;5;241m=\u001b[39m data1[\u001b[38;5;124m'\u001b[39m\u001b[38;5;124maccl\u001b[39m\u001b[38;5;124m'\u001b[39m][\u001b[38;5;241m0\u001b[39m]\n\u001b[0;32m     14\u001b[0m \u001b[38;5;28mprint\u001b[39m(\u001b[38;5;28mtype\u001b[39m(s))\n\u001b[1;32m---> 15\u001b[0m \u001b[38;5;28mprint\u001b[39m(ast\u001b[38;5;241m.\u001b[39mliteral_eval())\n",
      "\u001b[1;31mTypeError\u001b[0m: literal_eval() missing 1 required positional argument: 'node_or_string'"
     ]
    }
   ],
   "source": [
    "# print(data1)\n",
    "# print((data1.loc[1, 'accl'].compute()))\n",
    "# Define a custom function to convert strings to floats\n",
    "\n",
    "# def convert_to_float(series):\n",
    "#     print(\"-------------------------------------------\")\n",
    "#     print(series)\n",
    "#     return ast.literal_eval(series)\n",
    "\n",
    "# Apply the function to the 'accl' column\n",
    "data1['accl'] = data1['accl'].map_partitions(convert_to_float)\n",
    "\n",
    "# s = data1['accl'][0]\n",
    "# print(type(s))\n",
    "# print(ast.literal_eval())"
   ]
  },
  {
   "cell_type": "code",
   "execution_count": 32,
   "metadata": {},
   "outputs": [
    {
     "name": "stdout",
     "output_type": "stream",
     "text": [
      "0    True\n",
      "1    True\n",
      "2    True\n",
      "Name: accl, dtype: bool\n"
     ]
    }
   ],
   "source": [
    "\n",
    "\n",
    "# Define a custom function to check if a value is a string\n",
    "def is_string(series):\n",
    "    return series.apply(lambda x: isinstance(x, str))\n",
    "\n",
    "# Apply the function to the desired column (e.g., 'column_name')\n",
    "result = data['accl'].map_partitions(is_string)\n",
    "\n",
    "# Compute the result to get the output\n",
    "print(result.compute())"
   ]
  },
  {
   "cell_type": "code",
   "execution_count": null,
   "metadata": {},
   "outputs": [],
   "source": []
  },
  {
   "cell_type": "code",
   "execution_count": 45,
   "metadata": {},
   "outputs": [],
   "source": [
    "cell = data.loc[1, 'accl'].compute()\n",
    "with open('text.txt', 'w') as file:\n",
    "    for point in cell:\n",
    "        file.write(f'{point}\\n')\n"
   ]
  }
 ],
 "metadata": {
  "kernelspec": {
   "display_name": "base",
   "language": "python",
   "name": "python3"
  },
  "language_info": {
   "codemirror_mode": {
    "name": "ipython",
    "version": 3
   },
   "file_extension": ".py",
   "mimetype": "text/x-python",
   "name": "python",
   "nbconvert_exporter": "python",
   "pygments_lexer": "ipython3",
   "version": "3.11.7"
  }
 },
 "nbformat": 4,
 "nbformat_minor": 2
}
